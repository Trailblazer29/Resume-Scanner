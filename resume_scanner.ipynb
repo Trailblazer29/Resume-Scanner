{
  "nbformat": 4,
  "nbformat_minor": 0,
  "metadata": {
    "colab": {
      "name": "resume_scanner",
      "provenance": [],
      "authorship_tag": "ABX9TyONUDl+9mob6f44NbUpiTYx",
      "include_colab_link": true
    },
    "kernelspec": {
      "name": "python3",
      "display_name": "Python 3"
    },
    "language_info": {
      "name": "python"
    }
  },
  "cells": [
    {
      "cell_type": "markdown",
      "metadata": {
        "id": "view-in-github",
        "colab_type": "text"
      },
      "source": [
        "<a href=\"https://colab.research.google.com/github/Trailblazer29/Resume-Scanner/blob/master/resume_scanner.ipynb\" target=\"_parent\"><img src=\"https://colab.research.google.com/assets/colab-badge.svg\" alt=\"Open In Colab\"/></a>"
      ]
    },
    {
      "cell_type": "markdown",
      "metadata": {
        "id": "I9EtMQJr-wXt"
      },
      "source": [
        "# <center>Applicant Tracking System (ATS)</center>\n",
        "## <center>Author: **Ilham Seladji**<center>"
      ]
    },
    {
      "cell_type": "markdown",
      "metadata": {
        "id": "eYcKz2VSrPOI"
      },
      "source": [
        "# Install Required Packages & Software"
      ]
    },
    {
      "cell_type": "code",
      "metadata": {
        "id": "2PV0UBQgS2g-"
      },
      "source": [
        "!pip install docx2txt\n",
        "!pip install pdfplumber\n",
        "!sudo apt install tesseract-ocr\n",
        "!pip install pytesseract"
      ],
      "execution_count": null,
      "outputs": []
    },
    {
      "cell_type": "markdown",
      "metadata": {
        "id": "NS6Nsa7lrX6B"
      },
      "source": [
        "# Import Packages"
      ]
    },
    {
      "cell_type": "code",
      "metadata": {
        "id": "cnudYAGGY05P"
      },
      "source": [
        "import io\n",
        "import os\n",
        "import pandas as pd\n",
        "import docx2txt\n",
        "from itertools import chain\n",
        "import pdfplumber\n",
        "import pytesseract\n",
        "from PIL import Image\n",
        "from google.colab import files\n",
        "from sklearn.feature_extraction.text import CountVectorizer\n",
        "from sklearn.metrics.pairwise import cosine_similarity"
      ],
      "execution_count": 2,
      "outputs": []
    },
    {
      "cell_type": "markdown",
      "metadata": {
        "id": "W4HLbxzJrehV"
      },
      "source": [
        "# Convert any file type (DOCX, PDF, TXT, IMAGE) to text"
      ]
    },
    {
      "cell_type": "markdown",
      "metadata": {
        "id": "lfl-029Nt5Oc"
      },
      "source": [
        "This function converts any file type to text. The conversion of DOCX files is handled using the **doc2txt** package, PDF files are converted using **pdfplumber** and text is extracted from images using the **Tesseract** OCR engine."
      ]
    },
    {
      "cell_type": "code",
      "metadata": {
        "id": "PL6mOs7OYUn-"
      },
      "source": [
        "def file_to_text(file_path):\n",
        "\n",
        "    _, file_extension = os.path.splitext(file_path)\n",
        "\n",
        "    if file_extension == \".docx\":\n",
        "        text = docx2txt.process(file_path).replace(\"\\n\",\"\")\n",
        "        return text\n",
        "\n",
        "    elif file_extension == \".pdf\":\n",
        "      text = \"\"\n",
        "      with pdfplumber.open(file_path) as pdf:\n",
        "        num_pages = len(pdf.pages)\n",
        "        for i in range(num_pages):\n",
        "          page_content = pdf.pages[i].extract_text().replace(\"\\n\",\"\")\n",
        "          text += \" \"+page_content\n",
        "      return text\n",
        "\n",
        "    elif file_extension == \".txt\":\n",
        "      with open(file_path, \"r\") as f:\n",
        "        text = f.read()\n",
        "        text = text.replace(\"\\n\",\"\")\n",
        "      f.close()\n",
        "      return text\n",
        "\n",
        "    elif file_extension == \".JPG\" or file_extension == \".JPEG\" or file_extension == \".PNG\":\n",
        "      image = Image.open(file_path)\n",
        "      text = pytesseract.image_to_string(image)\n",
        "      text = text.replace(\"\\n\",\"\")\n",
        "      return text\n",
        "\n",
        "    else:\n",
        "      print(\"Unsupported Format.\")"
      ],
      "execution_count": 14,
      "outputs": []
    },
    {
      "cell_type": "markdown",
      "metadata": {
        "id": "oxOMVy15rv5p"
      },
      "source": [
        "# Open Resume & Job Description"
      ]
    },
    {
      "cell_type": "markdown",
      "metadata": {
        "id": "WY9YYq2x4zA0"
      },
      "source": [
        "Select a job description and a set of resumes to be evaluated, and convert them into textual format."
      ]
    },
    {
      "cell_type": "code",
      "metadata": {
        "id": "DN0_3k_Z5FYe"
      },
      "source": [
        "job_description = files.upload()\n",
        "if job_description:\n",
        "  job_description_path = \"/content/\" + next(iter(job_description))\n",
        "  job_description = file_to_text(job_description_path)"
      ],
      "execution_count": null,
      "outputs": []
    },
    {
      "cell_type": "code",
      "metadata": {
        "id": "eIgc0I3dKyCM"
      },
      "source": [
        "resumes = files.upload()"
      ],
      "execution_count": null,
      "outputs": []
    },
    {
      "cell_type": "markdown",
      "metadata": {
        "id": "c58aR9b0r1u9"
      },
      "source": [
        "# Evaluate Similarity between Resume & Job Description"
      ]
    },
    {
      "cell_type": "markdown",
      "metadata": {
        "id": "jwpS6N9Q88Ga"
      },
      "source": [
        "* The similarity between the job description and each resume will be assessed based on the **cosine similarity**, from **Scikit-learn**.\n",
        "\n",
        "* Cosine similarities will be recorded in an Excel file in an ascending order (i.e., the most relevant applicant profiles will appear at the top of the list)."
      ]
    },
    {
      "cell_type": "code",
      "metadata": {
        "id": "SwmbyKZd-SSg"
      },
      "source": [
        "resume_names = []\n",
        "similarities = [] # Range between 0 (0%) and 1 (100%)\n",
        "\n",
        "# Save uploaded resumes' names in a list \n",
        "for item in chain(resumes.items()):\n",
        "  resume_name = next(iter(item))\n",
        "  resume_names.append(resume_name)\n",
        "\n",
        "# Convert resumes to text and do a pairwise comparison with job description\n",
        "cv = CountVectorizer()\n",
        "for name in resume_names:\n",
        "  path = \"/content/\" + name\n",
        "  resume = file_to_text(path)\n",
        "  content = [job_description, resume] \n",
        "  matrix = cv.fit_transform(content)\n",
        "  similarity_matrix = cosine_similarity(matrix)\n",
        "  similarity = round(similarity_matrix[0][1],2)\n",
        "  similarities.append(similarity)\n",
        "\n",
        "# Display cosine similarities in a dataframe\n",
        "ats_data = {\"Applicant File\": resume_names, \"Similarity With Job Description\": similarities}  \n",
        "ats_data = pd.DataFrame(ats_data)  \n",
        "ats_data.sort_values(by=\"Similarity With Job Description\", ascending=True, inplace=True)\n",
        "print(ats_data)  \n",
        "\n",
        "# Store cosine similarities in Excel file\n",
        "ats_data.to_excel(\"ATS Results.xlsx\")"
      ],
      "execution_count": null,
      "outputs": []
    }
  ]
}